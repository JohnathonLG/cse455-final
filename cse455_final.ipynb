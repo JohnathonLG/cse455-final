{
  "nbformat": 4,
  "nbformat_minor": 0,
  "metadata": {
    "colab": {
      "name": "cse455-final.ipynb",
      "provenance": [],
      "include_colab_link": true
    },
    "kernelspec": {
      "name": "python3",
      "display_name": "Python 3"
    },
    "language_info": {
      "name": "python"
    },
    "accelerator": "GPU"
  },
  "cells": [
    {
      "cell_type": "markdown",
      "metadata": {
        "id": "view-in-github",
        "colab_type": "text"
      },
      "source": [
        "<a href=\"https://colab.research.google.com/github/JohnathonLG/cse455-final/blob/gh-pages/cse455_final.ipynb\" target=\"_parent\"><img src=\"https://colab.research.google.com/assets/colab-badge.svg\" alt=\"Open In Colab\"/></a>"
      ]
    },
    {
      "cell_type": "markdown",
      "metadata": {
        "id": "PYvo3BRNJoUw"
      },
      "source": [
        "Load the data in this VM and set up the device used for training"
      ]
    },
    {
      "cell_type": "code",
      "metadata": {
        "colab": {
          "base_uri": "https://localhost:8080/"
        },
        "id": "smRPd8HdGYeY",
        "outputId": "ad65ebe3-e1df-494d-c992-096230c2378b"
      },
      "source": [
        "import torch\n",
        "import torchvision\n",
        "import torchvision.transforms as transforms\n",
        "import numpy as np\n",
        "import matplotlib.pyplot as plt\n",
        "import torch.nn as nn\n",
        "import torch.nn.functional as F\n",
        "import torch.optim as optim\n",
        "import os\n",
        "from google.colab import drive\n",
        "import shutil\n",
        "\n",
        "device = torch.device(\"cuda:0\" if torch.cuda.is_available() else \"cpu\")\n",
        "\n",
        "drive.mount('/content/drive')\n",
        "checkpoints = '/content/drive/MyDrive/stocknet/'\n",
        "if not os.path.exists(checkpoints):\n",
        "  os.makedirs(checkpoints)\n",
        "if not os.path.exists('stocknet'):\n",
        "  os.chdir('/content/')\n",
        "  shutil.copy('/content/drive/MyDrive/cryptocharts.tar.gz', './cryptocharts.tar.gz')\n",
        "  !tar -xf cryptocharts.tar.gz"
      ],
      "execution_count": 1,
      "outputs": [
        {
          "output_type": "stream",
          "text": [
            "Mounted at /content/drive\n"
          ],
          "name": "stdout"
        }
      ]
    },
    {
      "cell_type": "markdown",
      "metadata": {
        "id": "1uaJoI1YPIU1"
      },
      "source": [
        "Load the data into torch"
      ]
    },
    {
      "cell_type": "code",
      "metadata": {
        "id": "OgMZBzHr6Zv-"
      },
      "source": [
        "DATA_DIR = '/content/data/'\n",
        "def get_data():\n",
        "  # data is only a little augmented since we know we will always be looking at the same type of graph that is the same size\n",
        "  transform_train = transforms.Compose([transforms.RandomCrop((253, 357), padding = 3, padding_mode='edge'),\n",
        "    transforms.ToTensor()\n",
        "  ])\n",
        "\n",
        "  transform_test = transforms.Compose([\n",
        "    transforms.ToTensor(),\n",
        "  ])\n",
        "\n",
        "  trainset = torchvision.datasets.ImageFolder(root= DATA_DIR + 'train/', transform=transform_train)\n",
        "  trainloader = torch.utils.data.DataLoader(trainset, batch_size=128, shuffle=True, num_workers=2)\n",
        "\n",
        "  testset = torchvision.datasets.ImageFolder(root= DATA_DIR + 'test/', transform=transform_test)\n",
        "  testloader = torch.utils.data.DataLoader(testset, batch_size=128, shuffle=False, num_workers=2)\n",
        "\n",
        "  return {'train': trainloader, 'test': testloader}\n",
        "\n",
        "data = get_data()"
      ],
      "execution_count": 2,
      "outputs": []
    },
    {
      "cell_type": "markdown",
      "metadata": {
        "id": "uT_TtlRV6cDN"
      },
      "source": [
        "Show some examples of images we are using in a grid"
      ]
    },
    {
      "cell_type": "code",
      "metadata": {
        "colab": {
          "base_uri": "https://localhost:8080/",
          "height": 82
        },
        "id": "Flnfom6IssU6",
        "outputId": "349bd707-0e3c-4e70-a430-659e057ae7e4"
      },
      "source": [
        "def show_image(img):\n",
        "  npimg = img.numpy()\n",
        "  plt.imshow(np.transpose(npimg, (1, 2, 0)))\n",
        "  plt.show()\n",
        "\n",
        "dataiter = iter(data['train'])\n",
        "images, labels = dataiter.next()\n",
        "images = images[:8]\n",
        "show_image(torchvision.utils.make_grid(images))"
      ],
      "execution_count": 3,
      "outputs": [
        {
          "output_type": "display_data",
          "data": {
            "image/png": "[encoded data removed]",
            "text/plain": [
              "<Figure size 432x288 with 1 Axes>"
            ]
          },
          "metadata": {
            "tags": [],
            "needs_background": "light"
          }
        }
      ]
    },
    {
      "cell_type": "markdown",
      "metadata": {
        "id": "K3T5ZitF7gpA"
      },
      "source": [
        "The convolutional neural net made to process our graphs, adapted from Joseph Redmon's DarkNet architecture with a couple extra layers and stride of 2 to accomodate our larger pictures."
      ]
    },
    {
      "cell_type": "code",
      "metadata": {
        "id": "m42qsmKNFKkw"
      },
      "source": [
        "class StockNet(nn.Module):\n",
        "    def __init__(self):\n",
        "        super(StockNet, self).__init__() # https://pytorch.org/docs/stable/generated/torch.nn.Conv2d.html\n",
        "        self.conv1 = nn.Conv2d(3, 16, 3, padding=1, bias=False)\n",
        "        self.bn1 = nn.BatchNorm2d(16)\n",
        "\n",
        "        self.conv2 = nn.Conv2d(16, 32, 3, padding=1, bias=False)\n",
        "        self.bn2 = nn.BatchNorm2d(32)\n",
        "\n",
        "        self.conv3 = nn.Conv2d(32, 64, 3, padding=1, bias=False)\n",
        "        self.bn3 = nn.BatchNorm2d(64)\n",
        "\n",
        "        self.conv4 = nn.Conv2d(64, 128, 3, padding=1, bias=False)\n",
        "        self.bn4 = nn.BatchNorm2d(128)\n",
        "\n",
        "        self.conv5 = nn.Conv2d(128, 256, 3, padding=1, bias=False)\n",
        "        self.bn5 = nn.BatchNorm2d(256)\n",
        "\n",
        "        self.conv6 = nn.Conv2d(256, 512, 3, padding=1, bias=False)\n",
        "        self.bn6 = nn.BatchNorm2d(512)\n",
        "\n",
        "        self.conv7 = nn.Conv2d(512, 1024, 3, padding=1, bias=False)\n",
        "        self.bn7 = nn.BatchNorm2d(1024)\n",
        "\n",
        "        #self.conv8 = nn.Conv2d(1024, 2048, 3, padding=1, bias=False)\n",
        "        #self.bn8 = nn.BatchNorm2d(2048)\n",
        "\n",
        "        self.fc1 = nn.Linear(1024, 7)\n",
        "\n",
        "    def forward(self, x):\n",
        "        # Input 253x357x3\n",
        "\n",
        "        # x = self.conv1(x)\n",
        "        # x = self.bn1(x)\n",
        "        # x = F.relu(x)\n",
        "        # x = F.max_pool2d(x, kernel_size=2, stride=2)\n",
        "\n",
        "        x = F.max_pool2d(F.relu(self.bn1(self.conv1(x))), kernel_size=2, stride=2) # 127x179x16\n",
        "        x = F.max_pool2d(F.relu(self.bn2(self.conv2(x))), kernel_size=2, stride=2) # 64x90x32\n",
        "        x = F.max_pool2d(F.relu(self.bn3(self.conv3(x))), kernel_size=2, stride=2) # 32x45x64\n",
        "        x = F.max_pool2d(F.relu(self.bn4(self.conv4(x))), kernel_size=2, stride=2) # 16x23x128\n",
        "        x = F.max_pool2d(F.relu(self.bn5(self.conv5(x))), kernel_size=2, stride=2) # 8x12x256\n",
        "        x = F.max_pool2d(F.relu(self.bn6(self.conv6(x))), kernel_size=2, stride=2) # 4x6x512\n",
        "        x = F.max_pool2d(F.relu(self.bn7(self.conv7(x))), kernel_size=2, stride=2) # 2x3x1024\n",
        "        #x = F.max_pool2d(F.relu(self.bn8(self.conv8(x))), kernel_size=2, stride=2) # 1x2x2048\n",
        "\n",
        "        # Global average pooling across each channel\n",
        "        x = F.adaptive_avg_pool2d(x, 1)                                            # 1x1x1024\n",
        "        x = torch.flatten(x, 1)                                                    # vector 1024\n",
        "        \n",
        "        \n",
        "        x = self.fc1(x)\n",
        "        return x"
      ],
      "execution_count": 4,
      "outputs": []
    },
    {
      "cell_type": "markdown",
      "metadata": {
        "id": "08rdiqdH7d8o"
      },
      "source": [
        "Training and validation functions"
      ]
    },
    {
      "cell_type": "code",
      "metadata": {
        "id": "Ynxl4MvCFL2M"
      },
      "source": [
        "def train(net, dataloader, epochs=1, start_epoch=0, lr=0.01, momentum=0.9, decay=0.0005, \n",
        "          verbose=1, print_every=10, state=None, schedule={}, checkpoint_path=None):\n",
        "  net.to(device)\n",
        "  net.train()\n",
        "  losses = []\n",
        "  criterion = nn.CrossEntropyLoss()\n",
        "  optimizer = optim.SGD(net.parameters(), lr=lr, momentum=momentum, weight_decay=decay)\n",
        "\n",
        "  # Load previous training state\n",
        "  if state:\n",
        "      net.load_state_dict(state['net'])\n",
        "      optimizer.load_state_dict(state['optimizer'])\n",
        "      start_epoch = state['epoch']\n",
        "      losses = state['losses']\n",
        "\n",
        "  # Fast forward lr schedule through already trained epochs\n",
        "  for epoch in range(start_epoch):\n",
        "    if epoch in schedule:\n",
        "      print (\"Learning rate: %f\"% schedule[epoch])\n",
        "      for g in optimizer.param_groups:\n",
        "        g['lr'] = schedule[epoch]\n",
        "\n",
        "  for epoch in range(start_epoch, epochs):\n",
        "    sum_loss = 0.0\n",
        "\n",
        "    # Update learning rate when scheduled\n",
        "    if epoch in schedule:\n",
        "      print (\"Learning rate: %f\"% schedule[epoch])\n",
        "      for g in optimizer.param_groups:\n",
        "        g['lr'] = schedule[epoch]\n",
        "\n",
        "    for i, batch in enumerate(dataloader, 0):\n",
        "        inputs, labels = batch[0].to(device), batch[1].to(device)\n",
        "\n",
        "        optimizer.zero_grad()\n",
        "\n",
        "        outputs = net(inputs)\n",
        "        loss = criterion(outputs, labels)\n",
        "        loss.backward()  # autograd magic, computes all the partial derivatives\n",
        "        optimizer.step() # takes a step in gradient direction\n",
        "\n",
        "        losses.append(loss.item())\n",
        "        sum_loss += loss.item()\n",
        "        \n",
        "        if i % print_every == print_every-1:    # print every 10 mini-batches\n",
        "            if verbose:\n",
        "              print('[%d, %5d] loss: %.3f' % (epoch, i + 1, sum_loss / print_every))\n",
        "            sum_loss = 0.0\n",
        "    if checkpoint_path:\n",
        "      state = {'epoch': epoch+1, 'net': net.state_dict(), 'optimizer': optimizer.state_dict(), 'losses': losses}\n",
        "      torch.save(state, checkpoint_path + 'checkpoint-%d.pkl'%(epoch+1))\n",
        "  return losses\n",
        "\n",
        "def accuracy(net, dataloader):\n",
        "  net.to(device)\n",
        "  net.eval()\n",
        "  correct = 0\n",
        "  dir_correct = 0\n",
        "  total = 0\n",
        "  with torch.no_grad():\n",
        "      for batch in dataloader:\n",
        "          images, labels = batch[0].to(device), batch[1].to(device)\n",
        "          #print(labels)\n",
        "          outputs = net(images)\n",
        "          _, predicted = torch.max(outputs.data, 1)\n",
        "          total += labels.size(0)\n",
        "          correct += (predicted == labels).sum().item()\n",
        "          # also check to see if we got the direction of change right (bullish or bearish)\n",
        "          for pred, lab in zip(predicted, labels):\n",
        "              dir_correct += ((pred < 3 and lab < 3) or \n",
        "              (3 <= pred < 6 and 3 <= lab < 6)\n",
        "              or (pred == lab == 6))\n",
        "  return correct/total, dir_correct/total\n",
        "\n",
        "def smooth(x, size):\n",
        "  return np.convolve(x, np.ones(size)/size, mode='valid')"
      ],
      "execution_count": 5,
      "outputs": []
    },
    {
      "cell_type": "markdown",
      "metadata": {
        "id": "nsTunmIy7Y-M"
      },
      "source": [
        "Run this bit to train the net and show results"
      ]
    },
    {
      "cell_type": "code",
      "metadata": {
        "colab": {
          "base_uri": "https://localhost:8080/",
          "height": 385
        },
        "id": "1rUZSqgfLJFV",
        "outputId": "1b4e69d2-f8dd-43e2-d3ce-ce4c34ee9daf"
      },
      "source": [
        "net = StockNet()\n",
        "state = torch.load(checkpoints + 'darknet_7layers_60epochs.pkl')\n",
        "losses = train(net, data['train'], epochs=60, schedule={0:.1, 10:.01, 30:.001, 40:.0001, 50:.00001}, checkpoint_path=checkpoints, state=state)\n",
        "plt.plot(smooth(losses, 50))\n",
        "mag_accuracy, dir_accuracy = accuracy(net, data['train'])\n",
        "print(\"Training raw accuracy: %f Directional accuracy: %f\" % (mag_accuracy, dir_accuracy))\n",
        "mag_accuracy, dir_accuracy = accuracy(net, data['test'])\n",
        "print(\"Testing raw accuracy: %f Directional accuracy: %f\" % (mag_accuracy, dir_accuracy))"
      ],
      "execution_count": 48,
      "outputs": [
        {
          "output_type": "stream",
          "text": [
            "Learning rate: 0.100000\n",
            "Learning rate: 0.010000\n",
            "Learning rate: 0.001000\n",
            "Learning rate: 0.000100\n",
            "Learning rate: 0.000010\n",
            "Training raw accuracy: 0.999246 Directional accuracy: 0.999401\n",
            "Testing raw accuracy: 0.449086 Directional accuracy: 0.608816\n"
          ],
          "name": "stdout"
        },
        {
          "output_type": "display_data",
          "data": {
            "image/png": "[encoded data removed]",
            "text/plain": [
              "<Figure size 432x288 with 1 Axes>"
            ]
          },
          "metadata": {
            "tags": [],
            "needs_background": "light"
          }
        }
      ]
    },
    {
      "cell_type": "markdown",
      "metadata": {
        "id": "JOqRMrtDFbj_"
      },
      "source": [
        "This will show some predictions the system makes on graphs it hasn't seen yet"
      ]
    },
    {
      "cell_type": "code",
      "metadata": {
        "id": "Wgyjj-QQ7HYa"
      },
      "source": [
        "def get_examples():\n",
        "  transform = transforms.Compose([transforms.ToTensor(),])\n",
        "  ex1 = torchvision.datasets.ImageFolder(root= checkpoints + '+5/', transform=transform)\n",
        "  loader1 = torch.utils.data.DataLoader(ex1, batch_size=1, shuffle=False, num_workers=2)\n",
        "  ex2 = torchvision.datasets.ImageFolder(root= checkpoints + 'n/', transform=transform)\n",
        "  loader2 = torch.utils.data.DataLoader(ex2, batch_size=1, shuffle=False, num_workers=2)\n",
        "  ex3 = torchvision.datasets.ImageFolder(root= checkpoints + 'unknown/', transform=transform)\n",
        "  loader3 = torch.utils.data.DataLoader(ex3, batch_size=1, shuffle=False, num_workers=2)\n",
        "  ex4 = torchvision.datasets.ImageFolder(root= checkpoints + '-10/', transform=transform)\n",
        "  loader4 = torch.utils.data.DataLoader(ex4, batch_size=1, shuffle=False, num_workers=2)\n",
        "  ex5 = torchvision.datasets.ImageFolder(root= checkpoints + '+1/', transform=transform)\n",
        "  loader5 = torch.utils.data.DataLoader(ex5, batch_size=1, shuffle=False, num_workers=2)\n",
        "  ex6 = torchvision.datasets.ImageFolder(root= checkpoints + '-1/', transform=transform)\n",
        "  loader6 = torch.utils.data.DataLoader(ex6, batch_size=1, shuffle=False, num_workers=2)\n",
        "  ex7 = torchvision.datasets.ImageFolder(root= checkpoints + '+10/', transform=transform)\n",
        "  loader7 = torch.utils.data.DataLoader(ex7, batch_size=1, shuffle=False, num_workers=2)\n",
        "  ex8 = torchvision.datasets.ImageFolder(root= checkpoints + '-5/', transform=transform)\n",
        "  loader8 = torch.utils.data.DataLoader(ex8, batch_size=1, shuffle=False, num_workers=2)\n",
        "  return {'+5': loader1, 'n': loader2, 'unknown': loader3, '-10': loader4, '+1': loader5, '-1': loader6, '+10': loader7, '-5': loader8}\n",
        "examples = get_examples()"
      ],
      "execution_count": 46,
      "outputs": []
    },
    {
      "cell_type": "code",
      "metadata": {
        "colab": {
          "base_uri": "https://localhost:8080/"
        },
        "id": "pITQT41o6aFE",
        "outputId": "af6cdebc-3ebb-4817-ab98-324089e2ff66"
      },
      "source": [
        "def check_examples(net):\n",
        "  labels = [\"+1\", \"+10\", \"+5\", \"-1\", \"-10\", \"-5\", \"n\"]\n",
        "  net.to(device)\n",
        "  net.eval()\n",
        "  for example in examples:\n",
        "    for batch in examples[example]:\n",
        "      image,label = batch[0].to(device), batch[1].to(device)\n",
        "      outputs = net(image)\n",
        "      _,predicted = torch.max(outputs.data, 1)\n",
        "      print(example)\n",
        "      print(\"Prediction:\" + labels[predicted])\n",
        "\n",
        "net = StockNet()\n",
        "state = torch.load(checkpoints + 'darknet_7layers_60epochs.pkl')\n",
        "losses = train(net, data['train'], epochs=60, schedule={0:.1, 10:.01, 30:.001, 40:.0001, 50:.00001}, checkpoint_path=checkpoints, state=state)\n",
        "check_examples(net)\n",
        "\n"
      ],
      "execution_count": 47,
      "outputs": [
        {
          "output_type": "stream",
          "text": [
            "Learning rate: 0.100000\n",
            "Learning rate: 0.010000\n",
            "Learning rate: 0.001000\n",
            "Learning rate: 0.000100\n",
            "Learning rate: 0.000010\n",
            "+5\n",
            "Prediction:+5\n",
            "n\n",
            "Prediction:-5\n",
            "unknown\n",
            "Prediction:+1\n",
            "-10\n",
            "Prediction:-1\n",
            "+1\n",
            "Prediction:+5\n",
            "-1\n",
            "Prediction:-5\n",
            "+10\n",
            "Prediction:+10\n",
            "-5\n",
            "Prediction:-1\n"
          ],
          "name": "stdout"
        }
      ]
    }
  ]
}